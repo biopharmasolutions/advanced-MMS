{
 "cells": [
  {
   "cell_type": "markdown",
   "id": "88a4a559",
   "metadata": {},
   "source": [
    "# 🧬 BRCA1 Protein Preparation\n"
   ]
  },
  {
   "cell_type": "markdown",
   "id": "a8d72d87",
   "metadata": {},
   "source": [
    "## PDB structure: 1T15 (BRCA1 BRCT domain)\n"
   ]
  },
  {
   "cell_type": "code",
   "execution_count": null,
   "id": "f944f409",
   "metadata": {},
   "outputs": [],
   "source": [
    "from pdbfixer import PDBFixer\n"
   ]
  },
  {
   "cell_type": "code",
   "execution_count": null,
   "id": "4d1807a6",
   "metadata": {},
   "outputs": [],
   "source": [
    "from openmm.app import PDBFile\n"
   ]
  },
  {
   "cell_type": "code",
   "execution_count": null,
   "id": "14e68b8e",
   "metadata": {},
   "outputs": [],
   "source": [
    "fixer = PDBFixer(pdbid='1T15')\n"
   ]
  },
  {
   "cell_type": "code",
   "execution_count": null,
   "id": "2dad2bcb",
   "metadata": {},
   "outputs": [],
   "source": [
    "fixer.findMissingResidues()\n"
   ]
  },
  {
   "cell_type": "code",
   "execution_count": null,
   "id": "5cee8dbf",
   "metadata": {},
   "outputs": [],
   "source": [
    "fixer.findMissingAtoms()\n"
   ]
  },
  {
   "cell_type": "code",
   "execution_count": null,
   "id": "ff05a08e",
   "metadata": {},
   "outputs": [],
   "source": [
    "fixer.addMissingAtoms()\n"
   ]
  },
  {
   "cell_type": "code",
   "execution_count": null,
   "id": "a69678d6",
   "metadata": {},
   "outputs": [],
   "source": [
    "fixer.addMissingHydrogens()\n"
   ]
  },
  {
   "cell_type": "code",
   "execution_count": null,
   "id": "6356c7d6",
   "metadata": {},
   "outputs": [],
   "source": [
    "with open('BRCA1_prepared.pdb', 'w') as f:\n"
   ]
  },
  {
   "cell_type": "code",
   "execution_count": null,
   "id": "656b418c",
   "metadata": {},
   "outputs": [],
   "source": [
    "    PDBFile.writeFile(fixer.topology, fixer.positions, f)"
   ]
  }
 ],
 "metadata": {},
 "nbformat": 4,
 "nbformat_minor": 5
}
