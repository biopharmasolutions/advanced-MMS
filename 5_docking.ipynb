{
 "cells": [
  {
   "cell_type": "markdown",
   "id": "585b67e0",
   "metadata": {},
   "source": [
    "# ⚓ Molecular Docking\n"
   ]
  },
  {
   "cell_type": "markdown",
   "id": "e460cb54",
   "metadata": {},
   "source": [
    "## AutoDock Vina or SMINA\n"
   ]
  },
  {
   "cell_type": "markdown",
   "id": "976e5d31",
   "metadata": {},
   "source": [
    "# Install and run docking on prepared ligands\n"
   ]
  },
  {
   "cell_type": "code",
   "execution_count": null,
   "id": "1744d78b",
   "metadata": {},
   "outputs": [],
   "source": [
    "!apt-get install autodock-vina"
   ]
  }
 ],
 "metadata": {},
 "nbformat": 4,
 "nbformat_minor": 5
}
