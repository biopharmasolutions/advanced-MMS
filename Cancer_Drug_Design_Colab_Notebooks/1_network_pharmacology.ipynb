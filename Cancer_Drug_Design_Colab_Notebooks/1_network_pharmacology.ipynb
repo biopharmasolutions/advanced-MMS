{
 "cells": [
  {
   "cell_type": "markdown",
   "id": "323bfa77",
   "metadata": {},
   "source": [
    "# 🔗 Network Pharmacology\n"
   ]
  },
  {
   "cell_type": "markdown",
   "id": "5fee20f6",
   "metadata": {},
   "source": [
    "## Gene Retrieval and PPI Construction\n"
   ]
  },
  {
   "cell_type": "code",
   "execution_count": null,
   "id": "4a264827",
   "metadata": {},
   "outputs": [],
   "source": [
    "from bioservices import BioMart\n"
   ]
  },
  {
   "cell_type": "markdown",
   "id": "913c4356",
   "metadata": {},
   "source": [
    "# Add your GeneCards/DisGeNET search and export code here"
   ]
  }
 ],
 "metadata": {},
 "nbformat": 4,
 "nbformat_minor": 5
}
