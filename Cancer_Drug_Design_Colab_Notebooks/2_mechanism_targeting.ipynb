{
 "cells": [
  {
   "cell_type": "markdown",
   "id": "7fd0ff6f",
   "metadata": {},
   "source": [
    "# 🧠 Mechanism-based Targeting\n"
   ]
  },
  {
   "cell_type": "markdown",
   "id": "d5d282cf",
   "metadata": {},
   "source": [
    "## Pathway Mapping using KEGG\n"
   ]
  },
  {
   "cell_type": "code",
   "execution_count": null,
   "id": "c8db1659",
   "metadata": {},
   "outputs": [],
   "source": [
    "from bioservices import KEGG\n"
   ]
  },
  {
   "cell_type": "markdown",
   "id": "9f89008a",
   "metadata": {},
   "source": [
    "# Use KEGG/Reactome APIs to validate pathways"
   ]
  }
 ],
 "metadata": {},
 "nbformat": 4,
 "nbformat_minor": 5
}
