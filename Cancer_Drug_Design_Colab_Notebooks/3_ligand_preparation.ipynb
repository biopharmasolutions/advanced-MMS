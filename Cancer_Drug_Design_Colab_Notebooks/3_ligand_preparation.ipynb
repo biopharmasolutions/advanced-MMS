{
 "cells": [
  {
   "cell_type": "markdown",
   "id": "097f61eb",
   "metadata": {},
   "source": [
    "# 💊 Ligand Dataset Preparation\n"
   ]
  },
  {
   "cell_type": "markdown",
   "id": "baabdd1e",
   "metadata": {},
   "source": [
    "## Use RDKit and PubChemPy\n"
   ]
  },
  {
   "cell_type": "code",
   "execution_count": null,
   "id": "0fcef590",
   "metadata": {},
   "outputs": [],
   "source": [
    "import pubchempy as pcp\n"
   ]
  },
  {
   "cell_type": "markdown",
   "id": "fef843f5",
   "metadata": {},
   "source": [
    "# Get ligands and convert to 3D"
   ]
  }
 ],
 "metadata": {},
 "nbformat": 4,
 "nbformat_minor": 5
}
