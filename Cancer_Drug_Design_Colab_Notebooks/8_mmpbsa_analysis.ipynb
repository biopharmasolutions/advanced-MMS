{
 "cells": [
  {
   "cell_type": "markdown",
   "id": "fc8f4b4d",
   "metadata": {},
   "source": [
    "# 💥 MM-PBSA Binding Free Energy\n"
   ]
  },
  {
   "cell_type": "markdown",
   "id": "79a6d241",
   "metadata": {},
   "source": [
    "# Use gmx_MMPBSA or MMPBSA.py\n"
   ]
  },
  {
   "cell_type": "markdown",
   "id": "b5b390f2",
   "metadata": {},
   "source": [
    "# Parse trajectory and compute ΔG"
   ]
  }
 ],
 "metadata": {},
 "nbformat": 4,
 "nbformat_minor": 5
}
