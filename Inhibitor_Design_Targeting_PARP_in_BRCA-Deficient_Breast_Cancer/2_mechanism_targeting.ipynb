{
 "cells": [
  {
   "cell_type": "markdown",
   "id": "df5d1d3e",
   "metadata": {},
   "source": [
    "# 🧠 Mechanism-based Targeting for BRCA1\n"
   ]
  },
  {
   "cell_type": "markdown",
   "id": "613631e7",
   "metadata": {},
   "source": [
    "## KEGG Pathway: hsa05224 - Breast cancer\n"
   ]
  },
  {
   "cell_type": "code",
   "execution_count": null,
   "id": "33e53acc",
   "metadata": {},
   "outputs": [],
   "source": [
    "from bioservices import KEGG\n"
   ]
  },
  {
   "cell_type": "code",
   "execution_count": null,
   "id": "8b070150",
   "metadata": {},
   "outputs": [],
   "source": [
    "k = KEGG()\n"
   ]
  },
  {
   "cell_type": "code",
   "execution_count": null,
   "id": "9a8679b4",
   "metadata": {},
   "outputs": [],
   "source": [
    "pathway = k.get('hsa05224')\n"
   ]
  },
  {
   "cell_type": "code",
   "execution_count": null,
   "id": "be2ca047",
   "metadata": {},
   "outputs": [],
   "source": [
    "print(pathway[:1000])"
   ]
  }
 ],
 "metadata": {},
 "nbformat": 4,
 "nbformat_minor": 5
}
