{
 "cells": [
  {
   "cell_type": "markdown",
   "id": "9ecf1116",
   "metadata": {},
   "source": [
    "# 🧪 MD Simulation using OpenMM\n"
   ]
  },
  {
   "cell_type": "code",
   "execution_count": null,
   "id": "19bd8e9b",
   "metadata": {},
   "outputs": [],
   "source": [
    "from openmm.app import *\n"
   ]
  },
  {
   "cell_type": "markdown",
   "id": "7c61583e",
   "metadata": {},
   "source": [
    "# Set up simulation for 50 ns"
   ]
  }
 ],
 "metadata": {},
 "nbformat": 4,
 "nbformat_minor": 5
}
