{
 "cells": [
  {
   "cell_type": "markdown",
   "id": "41087510",
   "metadata": {},
   "source": [
    "# 💉 ADMET Prediction\n"
   ]
  },
  {
   "cell_type": "markdown",
   "id": "b814252e",
   "metadata": {},
   "source": [
    "## Use pkCSM, SwissADME\n"
   ]
  },
  {
   "cell_type": "markdown",
   "id": "fd82fe9b",
   "metadata": {},
   "source": [
    "# Predict toxicity, bioavailability, etc."
   ]
  }
 ],
 "metadata": {},
 "nbformat": 4,
 "nbformat_minor": 5
}
